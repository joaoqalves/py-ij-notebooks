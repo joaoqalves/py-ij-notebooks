{
 "cells": [
  {
   "cell_type": "markdown",
   "metadata": {
    "nbgrader": {
     "grade": false,
     "grade_id": "cell-22cd257f960f7e95",
     "locked": true,
     "schema_version": 1.0,
     "solution": false
    }
   },
   "source": [
    "# Exercises\n",
    "\n",
    "Below there are a list of exercises with a set of tests that fail _a priori_. The general goal for all of them is to make them pass or to change the code in order to comply with the examples given."
   ]
  },
  {
   "cell_type": "markdown",
   "metadata": {
    "nbgrader": {
     "grade": false,
     "grade_id": "cell-84e329fc2d78459f",
     "locked": true,
     "schema_version": 1.0,
     "solution": false
    }
   },
   "source": [
    "## 1. Classes and default parameters\n",
    "\n",
    "Implement an `Offer` class that contains a `title` field. We should **not** be able to change its title _a posteriori_.\n"
   ]
  },
  {
   "cell_type": "code",
   "execution_count": 3,
   "metadata": {},
   "outputs": [],
   "source": [
    "import unittest\n",
    "\n",
    "\n",
    "OFFER_TITLE = \"Best job in the world!\"\n",
    "NO_DESCRIPTION_AVAILABLE = \"No description available\"\n",
    "\n",
    "class Offer(object):\n",
    "    \"\"\"Please implement it!\"\"\"\n",
    "    pass\n",
    "\n",
    "\n",
    "class OfferTest(unittest.TestCase):\n",
    "    def test_given_an_offer_when_changing_title_it_sould_raise_an_exception(self):\n",
    "        offer = Offer(OFFER_TITLE)\n",
    "        self.assertEqual(offer.title, OFFER_TITLE)\n",
    "        with self.assertRaises(AttributeError):\n",
    "            offer.title = 'new offer title is not possible'\n",
    "    \n",
    "    def test_given_an_offer_without_description_it_should_return_a_default(self):\n",
    "        offer = Offer(OFFER_TITLE)\n",
    "        self.assertEqual(offer.description, NO_DESCRIPTION_AVAILABLE)\n",
    "    \n",
    "    def test_given_an_offer_with_description_it_should_return_it(self):\n",
    "        new_description = \"My beautiful description\"\n",
    "        offer = Offer(OFFER_TITLE, description=new_description)\n",
    "        self.assertEqual(offer.description, new_description)\n",
    "\n",
    "suite = unittest.TestLoader().loadTestsFromTestCase(OfferTest)\n",
    "unittest.TextTestRunner().run(suite)"
   ]
  },
  {
   "cell_type": "markdown",
   "metadata": {
    "nbgrader": {
     "grade": false,
     "grade_id": "cell-f00ea7f07fa12552",
     "locked": true,
     "schema_version": 1.0,
     "solution": false
    }
   },
   "source": [
    "## 2. Loops\n",
    "\n",
    "Change the below code, in order to iterate over a list of offers, printing each one their titles with their respective indexes. Example:\n",
    "\n",
    "```\n",
    "\n",
    "1 => first\n",
    "2 => second\n",
    "3 => third\n",
    "```"
   ]
  },
  {
   "cell_type": "code",
   "execution_count": 20,
   "metadata": {},
   "outputs": [
    {
     "name": "stderr",
     "output_type": "stream",
     "text": [
      "F"
     ]
    },
    {
     "name": "stdout",
     "output_type": "stream",
     "text": [
      "Implement it\n",
      "Implement it\n",
      "Implement it\n"
     ]
    },
    {
     "name": "stderr",
     "output_type": "stream",
     "text": [
      "\n",
      "======================================================================\n",
      "FAIL: test_x (__main__.OfferTest)\n",
      "----------------------------------------------------------------------\n",
      "Traceback (most recent call last):\n",
      "  File \"/usr/lib/python3.5/unittest/mock.py\", line 1157, in patched\n",
      "    return func(*args, **keywargs)\n",
      "  File \"<ipython-input-20-f06aee48f63b>\", line 16, in test_x\n",
      "    mock_print.assert_has_calls([call(\"0 => first\"), call(\"1 => second\"), call(\"2 => third\")])\n",
      "  File \"/usr/lib/python3.5/unittest/mock.py\", line 824, in assert_has_calls\n",
      "    ) from cause\n",
      "AssertionError: Calls not found.\n",
      "Expected: [call('0 => first'), call('1 => second'), call('2 => third')]\n",
      "Actual: [call('Implement it'), call('Implement it'), call('Implement it')]\n",
      "\n",
      "----------------------------------------------------------------------\n",
      "Ran 1 test in 0.003s\n",
      "\n",
      "FAILED (failures=1)\n"
     ]
    },
    {
     "data": {
      "text/plain": [
       "<unittest.runner.TextTestResult run=1 errors=0 failures=1>"
      ]
     },
     "execution_count": 20,
     "metadata": {},
     "output_type": "execute_result"
    }
   ],
   "source": [
    "from unittest.mock import call, patch\n",
    "\n",
    "\n",
    "def print_offers(offers):\n",
    "    i = 0\n",
    "    while i < len(offers):\n",
    "        print(\"Implement it\")\n",
    "        i += 1\n",
    "    \n",
    "class OfferTest(unittest.TestCase):\n",
    "    \n",
    "    @patch(\"builtins.print\",autospec=True,side_effect=print)\n",
    "    def test_loop(self, mock_print):\n",
    "        offers = [Offer(\"first\"), Offer(\"second\"), Offer(\"third\")]\n",
    "        print_offers(offers)\n",
    "        mock_print.assert_has_calls([call(\"0 => first\"), call(\"1 => second\"), call(\"2 => third\")])\n",
    "        \n",
    "suite = unittest.TestLoader().loadTestsFromTestCase(OfferTest)\n",
    "unittest.TextTestRunner().run(suite)"
   ]
  },
  {
   "cell_type": "markdown",
   "metadata": {
    "nbgrader": {
     "grade": false,
     "grade_id": "cell-d3f0d04e287885fa",
     "locked": true,
     "schema_version": 1.0,
     "solution": false
    }
   },
   "source": [
    "### 3. String formatting\n",
    "\n",
    "There are more elegant ways to format strings than concatenate them together (`\"Hello \" + \" world!\"`). Let's try them below."
   ]
  },
  {
   "cell_type": "code",
   "execution_count": 25,
   "metadata": {},
   "outputs": [
    {
     "name": "stderr",
     "output_type": "stream",
     "text": [
      "FFF\n",
      "======================================================================\n",
      "FAIL: test_hello_world (__main__.FormatTest)\n",
      "----------------------------------------------------------------------\n",
      "Traceback (most recent call last):\n",
      "  File \"<ipython-input-25-4510a5793228>\", line 20, in test_hello_world\n",
      "    self.assertEqual(\"Hello victor!\", hello_world(\"victor\"))\n",
      "AssertionError: 'Hello victor!' != ''\n",
      "- Hello victor!\n",
      "+ \n",
      "\n",
      "\n",
      "======================================================================\n",
      "FAIL: test_named_parameter_formatting (__main__.FormatTest)\n",
      "----------------------------------------------------------------------\n",
      "Traceback (most recent call last):\n",
      "  File \"<ipython-input-25-4510a5793228>\", line 26, in test_named_parameter_formatting\n",
      "    self.assertEqual(\"Name: victor suarez\", named_parameter_formatting(dict(name=\"victor\", surname=\"suarez\")))\n",
      "AssertionError: 'Name: victor suarez' != 'Name: {name} {surname}'\n",
      "- Name: victor suarez\n",
      "+ Name: {name} {surname}\n",
      "\n",
      "\n",
      "======================================================================\n",
      "FAIL: test_your_name (__main__.FormatTest)\n",
      "----------------------------------------------------------------------\n",
      "Traceback (most recent call last):\n",
      "  File \"<ipython-input-25-4510a5793228>\", line 23, in test_your_name\n",
      "    self.assertEqual(\"Your name is victor. victor is your name\", your_name(\"victor\"))\n",
      "AssertionError: 'Your name is victor. victor is your name' != ''\n",
      "- Your name is victor. victor is your name\n",
      "+ \n",
      "\n",
      "\n",
      "----------------------------------------------------------------------\n",
      "Ran 3 tests in 0.003s\n",
      "\n",
      "FAILED (failures=3)\n"
     ]
    },
    {
     "data": {
      "text/plain": [
       "<unittest.runner.TextTestResult run=3 errors=0 failures=3>"
      ]
     },
     "execution_count": 25,
     "metadata": {},
     "output_type": "execute_result"
    }
   ],
   "source": [
    "def hello_world(name):\n",
    "    \"\"\"\n",
    "    It should return \"Hello <NAME>!\"\n",
    "    \"\"\"\n",
    "    return \"\"\n",
    "    \n",
    "def your_name(name):\n",
    "    \"\"\"\n",
    "    It should return \"Your name is <NAME>. <NAME> is your name. \n",
    "    You should not repeat the variable in the string formatting\n",
    "    \"\"\"\n",
    "    return \"\"\n",
    "\n",
    "def named_parameter_formatting(user):\n",
    "    return \"Name: {name} {surname}\"\n",
    "\n",
    "class FormatTest(unittest.TestCase):\n",
    "    \n",
    "    def test_hello_world(self):\n",
    "        self.assertEqual(\"Hello victor!\", hello_world(\"victor\"))\n",
    "    \n",
    "    def test_your_name(self):\n",
    "        self.assertEqual(\"Your name is victor. victor is your name\", your_name(\"victor\"))\n",
    "    \n",
    "    def test_named_parameter_formatting(self):\n",
    "        self.assertEqual(\"Name: victor suarez\", named_parameter_formatting(dict(name=\"victor\", surname=\"suarez\")))\n",
    "        \n",
    "suite = unittest.TestLoader().loadTestsFromTestCase(FormatTest)\n",
    "unittest.TextTestRunner().run(suite)"
   ]
  },
  {
   "cell_type": "code",
   "execution_count": null,
   "metadata": {},
   "outputs": [],
   "source": []
  }
 ],
 "metadata": {
  "celltoolbar": "Create Assignment",
  "kernelspec": {
   "display_name": "Python 3",
   "language": "python",
   "name": "python3"
  },
  "language_info": {
   "codemirror_mode": {
    "name": "ipython",
    "version": 3
   },
   "file_extension": ".py",
   "mimetype": "text/x-python",
   "name": "python",
   "nbconvert_exporter": "python",
   "pygments_lexer": "ipython3",
   "version": "3.5.2"
  }
 },
 "nbformat": 4,
 "nbformat_minor": 2
}
