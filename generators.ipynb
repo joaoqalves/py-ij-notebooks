{
 "cells": [
  {
   "cell_type": "markdown",
   "metadata": {},
   "source": [
    "# Generators and `requests`\n",
    "\n",
    "\n",
    "Generators are a powerful tool to perform lazy evaluation in Python. Let's put it together with the [requests](http://docs.python-requests.org/en/master/) library.\n",
    "\n",
    "\n",
    "1. Imagine that you have access to an [Users API] that's paginated *but* you don't know how many pages you have available. Let's write a function that takes advantage of generators so we can get a page of users each 5 seconds and print their full names, instead of doing it all at once. Example of output:\n",
    "\n",
    "```\n",
    "Name: George Bluth\n",
    "Name: Janet Weaver\n",
    "Name: Emma Wong\n",
    "========== Waiting 5 seconds... ==========\n",
    "Name: Eve Holt\n",
    "Name: Charles Morris\n",
    "Name: Tracey Ramos\n",
    "========== Waiting 5 seconds... ==========\n",
    "Name: Michael Lawson\n",
    "Name: Lindsay Ferguson\n",
    "Name: Tobias Funke\n",
    "========== Waiting 5 seconds... ==========\n",
    "Name: Byron Fields\n",
    "Name: George Edwards\n",
    "Name: Rachel Howell\n",
    "========== Waiting 5 seconds... ==========\n",
    "There's no more data \n",
    "```"
   ]
  },
  {
   "cell_type": "code",
   "execution_count": null,
   "metadata": {
    "collapsed": true
   },
   "outputs": [],
   "source": [
    "import requests\n",
    "\n",
    "\n",
    "def get_users_paged(page):\n",
    "    response = requests.get('https://reqres.in/api/users?page={page}'.format(page=page))\n",
    "    return response.json()['data']\n",
    "\n",
    "\n",
    "def get_users():\n",
    "    \"\"\"\n",
    "    Write a function that takes advantage of a generator in order to make work\n",
    "    the code below\n",
    "    \"\"\"\n",
    "    pass\n",
    "\n",
    "for user in get_users():\n",
    "    print(user)"
   ]
  }
 ],
 "metadata": {
  "kernelspec": {
   "display_name": "Python 3",
   "language": "python",
   "name": "python3"
  },
  "language_info": {
   "codemirror_mode": {
    "name": "ipython",
    "version": 3
   },
   "file_extension": ".py",
   "mimetype": "text/x-python",
   "name": "python",
   "nbconvert_exporter": "python",
   "pygments_lexer": "ipython3",
   "version": "3.4.5"
  }
 },
 "nbformat": 4,
 "nbformat_minor": 2
}
