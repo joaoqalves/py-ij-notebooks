{
 "cells": [
  {
   "cell_type": "markdown",
   "metadata": {},
   "source": [
    "# Builder Pattern\n",
    "\n",
    "_Builder_ is a design pattern to create objects. Its primary goal is to provide a solution for cases like having too many fields in a class that leads to the creation of several constructors, combining them differently.\n",
    "\n",
    "In Java, it's a common practice to create an auxiliary class (p.e. `UserBuilder`) in order to construct the desired object.\n",
    "\n",
    "In Python, since we have default parameters in the functions, we can take advantage of that when calling a class constructor:"
   ]
  },
  {
   "cell_type": "code",
   "execution_count": 32,
   "metadata": {},
   "outputs": [],
   "source": [
    "class Person(object):\n",
    "    def __init__(self, name, surname=\"<SURNAME>\"):\n",
    "        self.__name = name\n",
    "        self.__surname = surname\n",
    "\n",
    "    @property\n",
    "    def name(self):\n",
    "        return self.__name\n",
    "    \n",
    "    def __str__(self):\n",
    "        return \"{} {}\".format(self.__name, self.__surname)\n"
   ]
  },
  {
   "cell_type": "code",
   "execution_count": 41,
   "metadata": {},
   "outputs": [
    {
     "name": "stdout",
     "output_type": "stream",
     "text": [
      "Julen Guerrero\n",
      "Carlos Soler\n",
      "Raúl González\n"
     ]
    }
   ],
   "source": [
    "print(Person(\"Julen\", \"Guerrero\"))\n",
    "print(Person(\"Carlos\", \"Soler\"))\n",
    "print(Person(\"Raúl\", surname=\"González\"))"
   ]
  },
  {
   "cell_type": "markdown",
   "metadata": {},
   "source": [
    "Another advantage of using the _builder_ pattern is to construct immutable objects. That is covered by using Python's `@property` decorator."
   ]
  },
  {
   "cell_type": "code",
   "execution_count": 12,
   "metadata": {},
   "outputs": [],
   "source": []
  },
  {
   "cell_type": "code",
   "execution_count": null,
   "metadata": {},
   "outputs": [],
   "source": []
  }
 ],
 "metadata": {
  "kernelspec": {
   "display_name": "Python 3",
   "language": "python",
   "name": "python3"
  },
  "language_info": {
   "codemirror_mode": {
    "name": "ipython",
    "version": 3
   },
   "file_extension": ".py",
   "mimetype": "text/x-python",
   "name": "python",
   "nbconvert_exporter": "python",
   "pygments_lexer": "ipython3",
   "version": "3.5.2"
  }
 },
 "nbformat": 4,
 "nbformat_minor": 2
}
